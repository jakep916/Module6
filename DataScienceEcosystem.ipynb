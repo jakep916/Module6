{
 "cells": [
  {
   "cell_type": "markdown",
   "id": "25d17466-f95c-415d-874b-83e17074bf6a",
   "metadata": {},
   "source": [
    "**Exercise 2**"
   ]
  },
  {
   "cell_type": "markdown",
   "id": "b07e8de4-209c-4717-91a3-4f902856cef8",
   "metadata": {},
   "source": [
    "# Data Science Tools and Ecosystem"
   ]
  },
  {
   "cell_type": "markdown",
   "id": "2a4461a9-6211-4a88-9062-cdb3adb52451",
   "metadata": {},
   "source": [
    "**Exercise 3**"
   ]
  },
  {
   "cell_type": "markdown",
   "id": "b643e829-1b49-4c3b-a967-07a9c9a7b8ae",
   "metadata": {},
   "source": [
    "In this notebook, Data Science Tools and Ecosystem are summarized."
   ]
  },
  {
   "cell_type": "markdown",
   "id": "700713ec-9645-4d75-9f5c-987adc64731a",
   "metadata": {},
   "source": [
    "**Objectives**\n",
    "- List popular languages for data science\n",
    "- List commonly used libraries by data scientists\n",
    "- Create a single-column table of data science tools"
   ]
  },
  {
   "cell_type": "markdown",
   "id": "dc00c21b-b058-4b97-bef3-07d40f99c699",
   "metadata": {},
   "source": [
    "**Exercise 4**"
   ]
  },
  {
   "cell_type": "markdown",
   "id": "fcec7644-b7df-4988-8894-6ec8256696fb",
   "metadata": {},
   "source": [
    "Some of the popular languages that Data Scientists use are:\n",
    "1. Python\n",
    "2. R\n",
    "3. C++\n",
    "4. Julia"
   ]
  },
  {
   "cell_type": "markdown",
   "id": "8533eec9-e071-4e56-bb90-d6fe6a6a45dc",
   "metadata": {},
   "source": [
    "**Exercise 5**"
   ]
  },
  {
   "cell_type": "markdown",
   "id": "38b3f97f-1d11-4d69-bb1e-3e37eff11543",
   "metadata": {},
   "source": [
    "Some of the commonly used libraries used by Data Scientists include:\n",
    "1. pandas\n",
    "2. NumPy\n",
    "3. Matplotlib"
   ]
  },
  {
   "cell_type": "markdown",
   "id": "3076b0e5-8123-4470-83e7-4904ea0f1082",
   "metadata": {},
   "source": [
    "**Exercise 6**"
   ]
  },
  {
   "cell_type": "markdown",
   "id": "686b2361-09c8-4408-9dfa-b66b2729c25c",
   "metadata": {},
   "source": [
    "|Data Science Tools|\n",
    "|--------|\n",
    "|Jupyter|\n",
    "|RStudio|\n",
    "|VS Code|"
   ]
  },
  {
   "cell_type": "markdown",
   "id": "bbf908b7-45a4-47f4-9529-4f86ebd01236",
   "metadata": {},
   "source": [
    "**Exercise 7**"
   ]
  },
  {
   "cell_type": "markdown",
   "id": "9f90481b-bcd8-491e-9650-96609df0e0f2",
   "metadata": {},
   "source": [
    "### Below are a few examples of evaluating arithmetic expressions in Python"
   ]
  },
  {
   "cell_type": "markdown",
   "id": "87e719f1-1465-4f72-ae6b-23c26c8cd5eb",
   "metadata": {},
   "source": [
    "**Exercise 8**"
   ]
  },
  {
   "cell_type": "code",
   "execution_count": 5,
   "id": "34e9f202-12de-423a-b205-9a04ae4a473e",
   "metadata": {},
   "outputs": [
    {
     "data": {
      "text/plain": [
       "17"
      ]
     },
     "execution_count": 5,
     "metadata": {},
     "output_type": "execute_result"
    }
   ],
   "source": [
    "#This a simple arithmetic expression to mutiply then add integers\n",
    "(3*4)+5 "
   ]
  },
  {
   "cell_type": "markdown",
   "id": "5dd154b5-6b91-422e-a6d7-f5bf0d1eed8c",
   "metadata": {},
   "source": [
    "**Exercise 9**"
   ]
  },
  {
   "cell_type": "code",
   "execution_count": 6,
   "id": "949808b2-ba95-4889-b210-522345ef35c2",
   "metadata": {},
   "outputs": [
    {
     "name": "stdout",
     "output_type": "stream",
     "text": [
      "3.3333333333333335\n"
     ]
    }
   ],
   "source": [
    "#This will convert 200 minutes to hours by dividing by 60\n",
    "hours = 200/60\n",
    "print(hours)"
   ]
  },
  {
   "cell_type": "markdown",
   "id": "ec5b9737-15f6-4b18-ae39-74fbb8fc73c8",
   "metadata": {},
   "source": [
    "**Exercise 11**"
   ]
  },
  {
   "cell_type": "markdown",
   "id": "fb178c1d-0698-47fa-b36d-07393e97909a",
   "metadata": {},
   "source": [
    "## Author\n",
    "Jake"
   ]
  },
  {
   "cell_type": "code",
   "execution_count": null,
   "id": "9383974d-9a8e-4a52-985a-087dd2b75562",
   "metadata": {},
   "outputs": [],
   "source": []
  }
 ],
 "metadata": {
  "kernelspec": {
   "display_name": "Python 3 (ipykernel)",
   "language": "python",
   "name": "python3"
  },
  "language_info": {
   "codemirror_mode": {
    "name": "ipython",
    "version": 3
   },
   "file_extension": ".py",
   "mimetype": "text/x-python",
   "name": "python",
   "nbconvert_exporter": "python",
   "pygments_lexer": "ipython3",
   "version": "3.12.8"
  }
 },
 "nbformat": 4,
 "nbformat_minor": 5
}
